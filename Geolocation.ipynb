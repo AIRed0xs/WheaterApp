{
 "cells": [
  {
   "cell_type": "code",
   "execution_count": 23,
   "metadata": {},
   "outputs": [],
   "source": [
    "#https://geopy.readthedocs.io/en/stable/\n",
    "from geopy.geocoders import Nominatim #GeoPy provides many geocoding service wrappers\n",
    "from geopy.adapters import AioHTTPAdapter  #geocoders can be used with asyncio by simply switching to an Adapter based on BaseAsyncAdapter (like AioHTTPAdapter\n",
    "import aiohttp #https://docs.aiohttp.org/en/stable/\n",
    "import time\n",
    "from pprint import pprint\n"
   ]
  },
  {
   "cell_type": "code",
   "execution_count": 26,
   "metadata": {},
   "outputs": [],
   "source": [
    "# instantiate a new Nominatim client\n",
    "geolocator = Nominatim(user_agent=\"GeoLocation\")"
   ]
  },
  {
   "cell_type": "code",
   "execution_count": null,
   "metadata": {},
   "outputs": [],
   "source": [
    "#Getting the latitude and longitude from an address\n",
    "def get_location_by_address(address):\n",
    "    time.sleep(4)\n",
    "    try:\n",
    "        return geolocator.geocode(address).raw\n",
    "    except:\n",
    "        return get_location_by_address(address)\n",
    "address = input(\"Enter a valid address: \")\n",
    "location = get_location_by_address(address)\n",
    "latitude = location[\"lat\"]\n",
    "longitude = location[\"lon\"]\n",
    "print(f\"{latitude}, {longitude}\")\n",
    "# print all returned data\n",
    "pprint(location)"
   ]
  },
  {
   "cell_type": "code",
   "execution_count": null,
   "metadata": {},
   "outputs": [],
   "source": [
    "#Getting address from latitude and longitude\n",
    "#reverse geocoding\n",
    "def get_address_by_location(latitude, longitude, language=\"en\"):\n",
    "    # build coordinates string to pass to reverse() function\n",
    "    coordinates = f\"{latitude}, {longitude}\"\n",
    "    # sleep for a second to respect Usage Policy\n",
    "    time.sleep(1)\n",
    "    try:\n",
    "        return geolocator.reverse(coordinates, language=language).raw\n",
    "    except:\n",
    "        return get_address_by_location(latitude, longitude)\n",
    "# define your coordinates\n",
    "latitude = 61.5240\n",
    "longitude = 105.3188\n",
    "# get the address info\n",
    "address = get_address_by_location(latitude, longitude)\n",
    "# print all returned data\n",
    "pprint(address)"
   ]
  }
 ],
 "metadata": {
  "kernelspec": {
   "display_name": "Python 3.10.7 64-bit",
   "language": "python",
   "name": "python3"
  },
  "language_info": {
   "codemirror_mode": {
    "name": "ipython",
    "version": 3
   },
   "file_extension": ".py",
   "mimetype": "text/x-python",
   "name": "python",
   "nbconvert_exporter": "python",
   "pygments_lexer": "ipython3",
   "version": "3.10.7"
  },
  "orig_nbformat": 4,
  "vscode": {
   "interpreter": {
    "hash": "fc0e2d17cf19aa04c90c358e63162e9960265a955051dd5d3a1a3804271a4bee"
   }
  }
 },
 "nbformat": 4,
 "nbformat_minor": 2
}
